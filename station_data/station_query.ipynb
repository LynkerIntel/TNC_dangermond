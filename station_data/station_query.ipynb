{
 "cells": [
  {
   "cell_type": "code",
   "execution_count": 1,
   "metadata": {},
   "outputs": [],
   "source": [
    "import meteostat\n",
    "import pandas as pd\n",
    "from pyncei import NCEIBot\n",
    "import matplotlib.pyplot as plt \n",
    "import time\n",
    "import requests\n",
    "\n",
    "import geopandas as gpd\n",
    "from geopandas import GeoDataFrame\n",
    "from shapely.geometry import Point\n",
    "\n",
    "from lib import data_loaders\n",
    "\n",
    "import os\n",
    "from dotenv import load_dotenv, dotenv_values \n",
    "# loading variables from .env file\n",
    "load_dotenv() \n",
    "\n",
    "#os.getenv(\"NCEI_KEY\")\n",
    "ncei = NCEIBot(os.getenv(\"NCEI_KEY\"))"
   ]
  },
  {
   "cell_type": "code",
   "execution_count": null,
   "metadata": {},
   "outputs": [],
   "source": [
    "dp_poly = gpd.read_file(\"./gis/tnc.geojson\")\n",
    "# dangermond is in utm zone 10n, i.e. EPSG:32610\n",
    "dp_poly = dp_poly.to_crs(epsg=\"32610\")\n",
    "# create buffer\n",
    "dp_buffer = dp_poly.geometry.buffer(30000) # 30km"
   ]
  },
  {
   "cell_type": "code",
   "execution_count": null,
   "metadata": {},
   "outputs": [],
   "source": [
    "inventory_df = pd.read_table(\n",
    "    \"https://www.ncei.noaa.gov/pub/data/ghcn/daily/ghcnd-inventory.txt\", \n",
    "    sep='\\s+', \n",
    "    names=[\"id\", \"lat\", \"lon\", \"var\", \"start\", \"end\"]\n",
    ")"
   ]
  },
  {
   "cell_type": "code",
   "execution_count": null,
   "metadata": {},
   "outputs": [],
   "source": [
    "# need data from 1979-2023\n",
    "\n",
    "# start by fetching inventory data from NCEI GHCNd\n",
    "# cols described here: https://www.ncei.noaa.gov/products/land-based-station/global-historical-climatology-network-daily\n",
    "inventory_df = pd.read_table(\n",
    "    \"https://www.ncei.noaa.gov/pub/data/ghcn/daily/ghcnd-inventory.txt\", \n",
    "    sep='\\s+', \n",
    "    names=[\"id\", \"lat\", \"lon\", \"var\", \"start\", \"end\"]\n",
    ")\n",
    "\n",
    "# also download \"stations\" directory, in order to add station names to the inventory\n",
    "ncei_stations = pd.read_fwf(\n",
    "    \"https://www.ncei.noaa.gov/pub/data/ghcn/daily/ghcnd-stations.txt\", \n",
    "    header=None,\n",
    "    sep='\\s+', \n",
    ")\n",
    "\n",
    "# station name cols, which are not parsed correctly by pandas (combine 4,5)\n",
    "ncei_stations['station_name_full'] = ncei_stations[\n",
    "    ncei_stations[4].notna()][4] + ncei_stations[ncei_stations[5].notna()\n",
    "][5]\n",
    "\n",
    "# collapse back to single col\n",
    "ncei_stations['station_name_full'] = ncei_stations['station_name_full'].fillna(ncei_stations[4])\n",
    "ncei_stations = ncei_stations.drop([4,5], axis=1)\n",
    "ncei_stations.columns = [\"id\", \"lat\", \"lon\", \"elev\", \"network\", \"num\", \"station_name_full\"]\n",
    "\n",
    "# combine on id\n",
    "#inventory_df = pd.concat([inventory_df, ncei_stations], keys='id')"
   ]
  },
  {
   "cell_type": "code",
   "execution_count": null,
   "metadata": {},
   "outputs": [],
   "source": [
    "# create GeoDataFrame\n",
    "geometry = [Point(xy) for xy in zip(inventory_df.lon, inventory_df.lat)]\n",
    "df = inventory_df.drop(['lon', 'lat'], axis=1)\n",
    "gdf = GeoDataFrame(df, crs=\"EPSG:4326\", geometry=geometry)\n",
    "\n",
    "# dangermond is in utm zone 10n, i.e. EPSG:32610\n",
    "gdf = gdf.to_crs(epsg=\"32610\")\n"
   ]
  },
  {
   "cell_type": "code",
   "execution_count": null,
   "metadata": {},
   "outputs": [],
   "source": [
    "mask = gdf.within(dp_buffer.iloc[0])\n",
    "gdf_near = gdf.loc[mask]"
   ]
  },
  {
   "cell_type": "code",
   "execution_count": null,
   "metadata": {},
   "outputs": [],
   "source": [
    "gdf_near"
   ]
  },
  {
   "cell_type": "code",
   "execution_count": null,
   "metadata": {},
   "outputs": [],
   "source": [
    "fig, ax = plt.subplots(figsize=(7, 7))\n",
    "\n",
    "gdf_near.plot(ax=ax)\n",
    "dp_poly.plot(ax=ax)"
   ]
  },
  {
   "cell_type": "code",
   "execution_count": null,
   "metadata": {},
   "outputs": [],
   "source": [
    "gdf_near['id'].unique()"
   ]
  },
  {
   "cell_type": "code",
   "execution_count": null,
   "metadata": {},
   "outputs": [],
   "source": [
    "# check period of record for nearby sites before collecting:\n",
    "for site in gdf_near['id'].unique():\n",
    "    print(site)\n",
    "    start = inventory_df[inventory_df.id == site]['start'].min()\n",
    "    end = inventory_df[inventory_df.id == site]['end'].max()\n",
    "\n",
    "    #if end > 1978: # only want data during study period\n",
    "    print(f\"start: {start}, end: {end}\")\n",
    "\n",
    "    print(\"---\")"
   ]
  },
  {
   "cell_type": "code",
   "execution_count": null,
   "metadata": {},
   "outputs": [],
   "source": [
    "ghcnd_data = {}\n",
    "\n",
    "# get data for nearby stations\n",
    "for site in gdf_near['id'].unique():\n",
    "    print(site)\n",
    "    start = inventory_df[inventory_df.id == site]['start'].min()\n",
    "    end = inventory_df[inventory_df.id == site]['end'].max()\n",
    "\n",
    "    if end > 1978: # only want stations with data during study period\n",
    "\n",
    "        print(f\"start: {start}, end: {end}\")\n",
    "        \n",
    "        if start < 1978: # don't request years before start of site\n",
    "            start = 1978\n",
    "\n",
    "        years = []\n",
    "\n",
    "        for year in range(start-1, end+1):\n",
    "            print(f\"requesting data for {site}\")\n",
    "            print(year)\n",
    "            # NCEI data access for all networks\n",
    "            response = ncei.get_data(\n",
    "                datasetid=\"GHCND\",\n",
    "                stationid=[f\"GHCND:{site}\"], \n",
    "                #datatypeid=[\"TMIN\", \"TMAX\"], # all for now\n",
    "                startdate=f\"{year}-01-01\",\n",
    "                enddate=f\"{year}-12-31\",\n",
    "            )\n",
    "\n",
    "            df_year = response.to_dataframe()\n",
    "            \n",
    "            if not df_year.empty:\n",
    "                years.append(df_year)\n",
    "\n",
    "            time.sleep(6) # slow down requests a bit\n",
    "\n",
    "        df_site = pd.concat(years)\n",
    "        ghcnd_data[site] = df_site\n",
    "\n",
    "    print(\"---\")"
   ]
  },
  {
   "cell_type": "code",
   "execution_count": null,
   "metadata": {},
   "outputs": [],
   "source": [
    "ghcnd_data.keys()"
   ]
  },
  {
   "cell_type": "code",
   "execution_count": null,
   "metadata": {},
   "outputs": [],
   "source": [
    "for stn in ghcnd_data.keys():\n",
    "    df = ghcnd_data[stn]\n",
    "    start = df['date'].min().strftime(\"%Y%m%d\")\n",
    "    end = df['date'].max().strftime(\"%Y%m%d\")\n",
    "    #df.to_parquet(f\"./output/{stn}_{start}_{end}.parquet\")"
   ]
  },
  {
   "cell_type": "code",
   "execution_count": null,
   "metadata": {},
   "outputs": [],
   "source": [
    "# Get HADS data from Iowa Environmental Mesonet\n",
    "df_ca_awos = pd.read_csv(\"https://mesonet.agron.iastate.edu/sites/networks.php?network=CA_ASOS&format=csv&nohtml=on\")\n",
    "df_ca_coop = pd.read_csv(\"https://mesonet.agron.iastate.edu/sites/networks.php?network=CA_COOP&format=csv&nohtml=on\")\n",
    "df_ca_dcp = pd.read_csv(\"https://mesonet.agron.iastate.edu/sites/networks.php?network=CA_DCP&format=csv&nohtml=on\")\n",
    "\n",
    "ca_iem = pd.concat([df_ca_awos, df_ca_coop, df_ca_dcp])\n",
    "\n",
    "# create GeoDataFrame\n",
    "geometry = [Point(xy) for xy in zip(ca_iem.lon, ca_iem.lat)]\n",
    "df = ca_iem.drop(['lon', 'lat'], axis=1)\n",
    "iem_gdf = GeoDataFrame(df, crs=\"EPSG:4326\", geometry=geometry)\n",
    "\n",
    "# dangermond is in utm zone 10n, i.e. EPSG:32610\n",
    "iem_gdf = iem_gdf.to_crs(epsg=\"32610\")\n",
    "\n",
    "iem_mask = iem_gdf.within(dp_buffer.iloc[0])\n",
    "iem_gdf_near = iem_gdf.loc[iem_mask]"
   ]
  },
  {
   "cell_type": "code",
   "execution_count": null,
   "metadata": {},
   "outputs": [],
   "source": [
    "iem_gdf_near"
   ]
  }
 ],
 "metadata": {
  "kernelspec": {
   "display_name": "Python 3",
   "language": "python",
   "name": "python3"
  },
  "language_info": {
   "codemirror_mode": {
    "name": "ipython",
    "version": 3
   },
   "file_extension": ".py",
   "mimetype": "text/x-python",
   "name": "python",
   "nbconvert_exporter": "python",
   "pygments_lexer": "ipython3",
   "version": "3.12.3"
  }
 },
 "nbformat": 4,
 "nbformat_minor": 2
}

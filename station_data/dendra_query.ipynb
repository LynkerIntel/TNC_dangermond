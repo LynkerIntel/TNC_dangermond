{
 "cells": [
  {
   "cell_type": "code",
   "execution_count": 102,
   "metadata": {},
   "outputs": [],
   "source": [
    "from lib import data_loaders\n",
    "from lib import dendra\n",
    "\n",
    "from dotenv import load_dotenv\n",
    "import os\n",
    "import requests\n",
    "import pandas as pd"
   ]
  },
  {
   "cell_type": "code",
   "execution_count": 6,
   "metadata": {},
   "outputs": [],
   "source": [
    "load_dotenv()\n",
    "dendra_pass = os.getenv(\"DENDRA_PASS\")"
   ]
  },
  {
   "cell_type": "code",
   "execution_count": 103,
   "metadata": {},
   "outputs": [],
   "source": [
    "dendra.authenticate(\"dragar@lynker.com\")"
   ]
  },
  {
   "cell_type": "code",
   "execution_count": 113,
   "metadata": {},
   "outputs": [],
   "source": [
    "# parameters: start and end time\n",
    "# Note the queries default to local time. Add a captial 'Z' to the end of the timestamp to indicate UTC and many functions have a parameter for local vs utc\n",
    "begins_at = \"1980-01-01T00:00:00\"\n",
    "ends_before = (\n",
    "    dendra.time_format()\n",
    ")  # time_format without argument gives current datetime. #'2020-03-01T00:00:00'"
   ]
  },
  {
   "cell_type": "code",
   "execution_count": 105,
   "metadata": {},
   "outputs": [
    {
     "name": "stdout",
     "output_type": "stream",
     "text": [
      "{'_id': '64078034a303bf7529cdb530', 'name': 'Cistern Water Tank', 'slug': 'cistern-water-tank'}\n",
      "{'_id': '6390f04da9b6140fd21ce113', 'name': 'Cojo HQ Water Tank', 'slug': 'cojo-hq-water-tank'}\n",
      "{'_id': '64dbe91cd0708704d6d53d8c', 'name': 'Dangermond Alegria', 'slug': 'dangermond-alegria'}\n",
      "{'_id': '64dbe9ce2148db3f6f481b1a', 'name': 'Dangermond Alexander Ramajal', 'slug': 'dangermond-alexanderramajal'}\n",
      "{'_id': '64dbe9c755264579ef3ea324', 'name': 'Dangermond Buckhorn 1', 'slug': 'dangermond-buckhorn1'}\n",
      "{'_id': '64dbe9c780818732a0c9038b', 'name': 'Dangermond Buckhorn 2', 'slug': 'dangermond-buckhorn2'}\n",
      "{'_id': '64dbe9c8d07087cecfd53d8e', 'name': 'Dangermond Cojo Canyon', 'slug': 'dangermond-cojocanyon'}\n",
      "{'_id': '64dbe9c82148dbfa66481b12', 'name': 'Dangermond Damsite Canyon', 'slug': 'dangermond-damsitecanyon'}\n",
      "{'_id': '64dbe9c880818761a2c9038d', 'name': 'Dangermond Diamond Corral', 'slug': 'dangermond-diamondcorral'}\n",
      "{'_id': '64dbe9ce02096974eea07382', 'name': 'Dangermond East Ramajal', 'slug': 'dangermond-eastramajal'}\n",
      "{'_id': '64dbe9c8d070876630d53d90', 'name': 'Dangermond Escondido 1', 'slug': 'dangermond-escondido1'}\n",
      "{'_id': '64dbe9c92148db2146481b14', 'name': 'Dangermond Escondido 2', 'slug': 'dangermond-escondido2'}\n",
      "{'_id': '64d3cbe75c0d5f2b526942c8', 'name': 'Dangermond Escondido 3', 'slug': 'dangermond-escondido-3'}\n",
      "{'_id': '64dbe9c902096994b4a0737c', 'name': 'Dangermond Escondido 3B', 'slug': 'dangermond-escondido3b'}\n",
      "{'_id': '64dbe9c9f1438d459a4dd9cb', 'name': 'Dangermond Escondido 4', 'slug': 'dangermond-escondido4'}\n",
      "{'_id': '64dbe9ca5c0d5f0fd8694a9f', 'name': 'Dangermond Escondido 5', 'slug': 'dangermond-escondido5'}\n",
      "{'_id': '64dbe9ca02096942dfa0737e', 'name': 'Dangermond Gaspar 1', 'slug': 'dangermond-gaspar1'}\n",
      "{'_id': '64dbe9ca5c0d5f04d5694aa1', 'name': 'Dangermond Gaspar 2', 'slug': 'dangermond-gaspar2'}\n",
      "{'_id': '64dbe9ca552645785b3ea326', 'name': 'Dangermond Gaucho 1', 'slug': 'dangermond-gaucho1'}\n",
      "{'_id': '64dbe9ca8081876da0c9038f', 'name': 'Dangermond Gaucho 2', 'slug': 'dangermond-gaucho2'}\n",
      "{'_id': '64dbe9cbd070879e06d53d92', 'name': 'Dangermond Jalachichi 1', 'slug': 'dangermond-jalachichi1'}\n",
      "{'_id': '64dbe9cb2148db20a9481b16', 'name': 'Dangermond Jalachichi 2', 'slug': 'dangermond-jalachichi2'}\n",
      "{'_id': '64dbe9cb0209698525a07380', 'name': 'Dangermond Lower Espada', 'slug': 'dangermond-lowerespada'}\n",
      "{'_id': '64dbe9cbf1438d667c4dd9cd', 'name': 'Dangermond Lower Jalama Vaqueros', 'slug': 'dangermond-lowerjalamavaqueros'}\n",
      "{'_id': '64dbe9ce5c0d5f46af694aa5', 'name': 'Dangermond North Ramajal', 'slug': 'dangermond-northramajal'}\n",
      "{'_id': '64dbe9cc5c0d5fbee8694aa3', 'name': 'Dangermond Oaks 1', 'slug': 'dangermond-oaks1'}\n",
      "{'_id': '64dbe9cc5526459b7e3ea328', 'name': 'Dangermond Oaks 2', 'slug': 'dangermond-oaks2'}\n",
      "{'_id': '64dbe9cc808187450dc90391', 'name': 'Dangermond Oaks 3', 'slug': 'dangermond-oaks3'}\n",
      "{'_id': '64dbe9ccd070874f44d53d94', 'name': 'Dangermond Oaks 3B', 'slug': 'dangermond-oaks3b'}\n",
      "{'_id': '64dbe9cc552645a2443ea32a', 'name': 'Dangermond Oaks 4', 'slug': 'dangermond-oaks4'}\n",
      "{'_id': '64dbe9cd80818736f7c90393', 'name': 'Dangermond Oaks 5', 'slug': 'dangermond-oaks5'}\n",
      "{'_id': '64dbe9cd2148db6b2f481b18', 'name': 'Dangermond Old Espada', 'slug': 'dangermond-oldespada'}\n",
      "{'_id': '64dbe9cdf1438d14344dd9cf', 'name': 'Dangermond Quail Canyon 1', 'slug': 'dangermond-quailcanyon1'}\n",
      "{'_id': '64dbe9cdd0708770b4d53d96', 'name': 'Dangermond Quarry 1', 'slug': 'dangermond-quarry1'}\n",
      "{'_id': '64dbe9ce55264567723ea32c', 'name': 'Dangermond South Ramajal', 'slug': 'dangermond-southramajal'}\n",
      "{'_id': '654bf9492457b360fd240160', 'name': 'Dangermond Test Well', 'slug': 'dangermond-testwell'}\n",
      "{'_id': '64dbe9cf808187425dc90395', 'name': 'Dangermond Tinta 1', 'slug': 'dangermond-tinta1'}\n",
      "{'_id': '64dbe9cff1438d26434dd9d1', 'name': 'Dangermond Tinta 10', 'slug': 'dangermond-tinta10'}\n",
      "{'_id': '64dbe9cf5c0d5fc0ff694aa7', 'name': 'Dangermond Tinta 11A', 'slug': 'dangermond-tinta11a'}\n",
      "{'_id': '64dbe9cf020969c313a07384', 'name': 'Dangermond Tinta 11B', 'slug': 'dangermond-tinta11b'}\n",
      "{'_id': '64dbe9cf552645b01c3ea32e', 'name': 'Dangermond Tinta 2', 'slug': 'dangermond-tinta2'}\n",
      "{'_id': '64dbe9d08081872350c90397', 'name': 'Dangermond Tinta 3', 'slug': 'dangermond-tinta3'}\n",
      "{'_id': '64dbe9d0d070877739d53d98', 'name': 'Dangermond Tinta 4', 'slug': 'dangermond-tinta4'}\n",
      "{'_id': '64dbe9d02148dbf70d481b1c', 'name': 'Dangermond Tinta 5', 'slug': 'dangermond-tinta5'}\n",
      "{'_id': '64dead5cd070872b26d54105', 'name': 'Dangermond Tinta 5B', 'slug': 'dangermond-tinta5b'}\n",
      "{'_id': '64dbe9d0f1438d0bbc4dd9d3', 'name': 'Dangermond Tinta 6', 'slug': 'dangermond-tinta6'}\n",
      "{'_id': '64dbe9d1d07087ecf0d53d9a', 'name': 'Dangermond Tinta 7', 'slug': 'dangermond-tinta7'}\n",
      "{'_id': '64dbe9d102096999aea07386', 'name': 'Dangermond Tinta 8', 'slug': 'dangermond-tinta8'}\n",
      "{'_id': '64dbe9d12148dbc73a481b1e', 'name': 'Dangermond Tinta 9', 'slug': 'dangermond-tinta9'}\n",
      "{'_id': '64dbe9d15c0d5f654f694aa9', 'name': 'Dangermond Upper Espada', 'slug': 'dangermond-upperespada'}\n",
      "{'_id': '64dbe9d155264571ff3ea330', 'name': 'Dangermond Vaqueros', 'slug': 'dangermond-vaqueros'}\n",
      "{'_id': '64dbe9d2f1438d64a24dd9d5', 'name': 'Dangermond Venadito 1', 'slug': 'dangermond-venadito1'}\n",
      "{'_id': '64dbe9d2020969a355a07388', 'name': 'Dangermond Venadito 2', 'slug': 'dangermond-venadito2'}\n",
      "{'_id': '64dbe9d25c0d5f367f694aab', 'name': 'Dangermond Wood Canyon', 'slug': 'dangermond-woodcanyon'}\n",
      "{'_id': '62f586deb75e9d1f889f5bb4', 'name': 'Dangermond_Army Camp', 'slug': 'dangermond-army-camp'}\n",
      "{'_id': '62f587b6c06ca8308bcbfbbc', 'name': 'Dangermond_Bunker Hill', 'slug': 'dangermond-bunker-hill'}\n",
      "{'_id': '62f58822c06ca83573cbfbc2', 'name': 'Dangermond_Cistern', 'slug': 'dangermond-cistern'}\n",
      "{'_id': '64cff7ae0233912ede1d5c8e', 'name': 'Dangermond_Cojo Gate', 'slug': 'dangermond-cojo-gate'}\n",
      "{'_id': '62f58875c06ca82417cbfbc8', 'name': 'Dangermond_Cojo HQ', 'slug': 'dangermond-cojo-hq'}\n",
      "{'_id': '63878f4f5d431149f1e57779', 'name': 'Dangermond_Jalachichi', 'slug': 'dangermond-jalachichi'}\n",
      "{'_id': '62423aa3922448855b3121dd', 'name': 'Dangermond_Jalama HQ', 'slug': 'jalama-hq'}\n",
      "{'_id': '648201897b8b7ab538b204d0', 'name': 'Dangermond_Little Cojo', 'slug': 'little-cojo'}\n",
      "{'_id': '64a4449cdc381726485b9a98', 'name': 'Dangermond_North Beach', 'slug': 'dangermond-north-beach'}\n",
      "{'_id': '60b6ddc886a2dc511407554c', 'name': 'Dangermond_Oaks', 'slug': 'dangermond-oaks'}\n",
      "{'_id': '64c03949023391aa931d4b62', 'name': 'Dangermond_Quarry', 'slug': 'dangermond-quarry'}\n",
      "{'_id': '62f588b4b75e9d04199f5bca', 'name': 'Dangermond_Ramajal', 'slug': 'dangermond-ramajal'}\n",
      "{'_id': '62f588e32e879b33c8fa0c60', 'name': 'Dangermond_Repeator', 'slug': 'dangermond-repeator'}\n",
      "{'_id': '60c76d4386a2dc4a7f075578', 'name': 'Dangermond_Sutter', 'slug': 'dangermond-sutter'}\n",
      "{'_id': '60c81c14620d65f93311bfcb', 'name': 'Dangermond_Tinta', 'slug': 'dangermond-tinta'}\n",
      "{'_id': '65b456da4dcc5f75bf258812', 'name': 'Dangermond_UCSB_North_Beach', 'slug': 'dangermond-ucsc-n-beach'}\n",
      "{'_id': '65c6903f130ba516f47806a0', 'name': 'Escondido Full Pipe', 'slug': 'escondido-full-pipe'}\n",
      "{'_id': '640780b303ab384121763b77', 'name': 'Green Water Tank', 'slug': 'green-water-tank'}\n",
      "{'_id': '6390ec588f3bc337ee659925', 'name': 'Jalama HQ Water Tank', 'slug': 'jalama-hq-water-tank'}\n",
      "{'_id': '65c690ba130ba543b77806a2', 'name': 'Jalama Rain Sampler', 'slug': 'jalama-rain-sampler'}\n",
      "{'_id': '651359a1020969b838a0af3e', 'name': 'K7AZ Weather Station', 'slug': 'k7az-mesowest-e2332'}\n",
      "{'_id': '6642949a604ca1e8efc909ae', 'name': 'Old Espada Water Tank', 'slug': 'old-espada-water-tank'}\n",
      "{'_id': '640780d536a5d4224b6de13e', 'name': 'Repeater Water Tank', 'slug': 'repeater-water-tank'}\n",
      "{'_id': '61a7c3d992e66c3c4f84a973', 'name': 'SCI Arch Rock', 'slug': 'sci-arch-rock'}\n",
      "{'_id': '61a5508de85509fb054382c0', 'name': 'SCI Diablo Peak', 'slug': 'sci-diablo'}\n",
      "{'_id': '63645be84b24f74e03363449', 'name': 'SCI Laguna Weather', 'slug': 'sci-laguna'}\n",
      "{'_id': '60ca4656e59e3b5a3b7911cf', 'name': 'SCI Main Ranch North Well', 'slug': 'sci-main-ranch-north-well'}\n",
      "{'_id': '60ca468be59e3ba96d7911d1', 'name': 'SCI Main Ranch South Well', 'slug': 'sci-main-ranch-south-well'}\n",
      "{'_id': '63686470b055ac33a4843a58', 'name': 'SCI Nursery', 'slug': 'sci-nursery'}\n",
      "{'_id': '63645ca25d4311382ce55686', 'name': 'SCI Pelican Pines', 'slug': 'sci-pelican-pines'}\n",
      "{'_id': '63686563b055ac80f1843a5b', 'name': 'SCI Prisoner Well', 'slug': 'sci-prisoner-well'}\n",
      "{'_id': '61a5511de8550918364382cc', 'name': 'SCI Sierra Blanca', 'slug': 'new-station'}\n",
      "{'_id': '60391fb15966d7f7a2f8150e', 'name': 'TekBox Testbed', 'slug': 'tekbox-testbed'}\n"
     ]
    }
   ],
   "source": [
    "stations = dendra.list_stations(\"tnc\")\n",
    "for station in stations:\n",
    "    print(station)"
   ]
  },
  {
   "cell_type": "code",
   "execution_count": 112,
   "metadata": {},
   "outputs": [
    {
     "name": "stdout",
     "output_type": "stream",
     "text": [
      "Dangermond Escondido 5 Depth to Groundwater 6511f67d2148db626248533e\n",
      "Dangermond Buckhorn 2 Depth to Groundwater 6511f7e82148db3a1e485341\n",
      "Dangermond Alegria Depth to Groundwater 6511f7e85526453a3c3edcd7\n",
      "Dangermond Alexander Ramajal Depth to Groundwater 6511f7e8808187594cc93c0b\n",
      "Dangermond Buckhorn 1 Depth to Groundwater 6511f7e8d070873fc4d574e2\n",
      "Dangermond East Ramajal Depth to Groundwater 6511f7e90209692d22a0add0\n",
      "Dangermond Diamond Corral Depth to Groundwater 6511f7e95526459d613edcd9\n",
      "Dangermond Damsite Canyon Depth to Groundwater 6511f7e95c0d5fe521698416\n",
      "Dangermond Cojo Canyon Depth to Groundwater 6511f7e9f1438dfeb44e11a9\n",
      "Dangermond Escondido 3 Depth to Groundwater 6511f7ea55264589773edcdb\n",
      "Dangermond Escondido 1 Depth to Groundwater 6511f7ea5c0d5f9de3698418\n",
      "Dangermond Escondido 2 Depth to Groundwater 6511f7ea8081871abec93c0d\n",
      "Dangermond Escondido 3B Depth to Groundwater 6511f7ea8081871bfbc93c0f\n",
      "Dangermond Escondido 4 Depth to Groundwater 6511f7ead07087d401d574e5\n",
      "Dangermond Gaspar 2 Depth to Groundwater 6511f7eb2148db106b485344\n",
      "Dangermond Gaucho 2 Depth to Groundwater 6511f7eb2148db98c4485346\n",
      "Dangermond Gaspar 1 Depth to Groundwater 6511f7ebd070875f09d574e7\n",
      "Dangermond Gaucho 1 Depth to Groundwater 6511f7ebf1438d39b04e11ab\n",
      "Dangermond Jalachichi 1 Depth to Groundwater 6511f7ec0209694227a0add3\n",
      "Dangermond Lower Espada Depth to Groundwater 6511f7ec0209694422a0add5\n",
      "Dangermond Lower Jalama Vaqueros Depth to Groundwater 6511f7ec5c0d5f11c069841a\n",
      "Dangermond North Ramajal Depth to Groundwater 6511f7ec5c0d5f306469841c\n",
      "Dangermond Jalachichi 2 Depth to Groundwater 6511f7ecf1438db9a04e11ad\n",
      "Dangermond Oaks 1 Depth to Groundwater 6511f7ed5526452a403edcde\n",
      "Dangermond Oaks 2 Depth to Groundwater 6511f7ed55264561063edce0\n",
      "Dangermond Oaks 3 Depth to Groundwater 6511f7ed8081874379c93c13\n",
      "Dangermond Oaks 3B Depth to Groundwater 6511f7ed8081875c73c93c15\n",
      "Dangermond Oaks 5 Depth to Groundwater 6511f7ee2148db4c88485348\n",
      "Dangermond Old Espada Depth to Groundwater 6511f7eed07087a02dd574ec\n",
      "Dangermond Oaks 4 Depth to Groundwater 6511f7eed07087d804d574ea\n",
      "Dangermond Quail Canyon 1 Depth to Groundwater 6511f7eef1438d53734e11b2\n",
      "Dangermond Quarry 1 Depth to Groundwater 6511f7ef0209691be3a0add7\n",
      "Dangermond Tinta 11A Depth to Groundwater 6511f7ef02096924e2a0add9\n",
      "Dangermond South Ramajal Depth to Groundwater 6511f7ef2148db3bfc48534a\n",
      "Dangermond Tinta 1 Depth to Groundwater 6511f7ef5c0d5f3f6569841e\n",
      "Dangermond Tinta 10 Depth to Groundwater 6511f7eff1438dbc8f4e11b5\n",
      "Dangermond Tinta 11B Depth to Groundwater 6511f7f0552645d5083edce2\n",
      "Dangermond Tinta 2 Depth to Groundwater 6511f7f05c0d5f8019698420\n",
      "Dangermond Tinta 3 Depth to Groundwater 6511f7f08081878ddfc93c18\n",
      "Dangermond Tinta 4 Depth to Groundwater 6511f7f0d0708774dcd574ee\n",
      "Dangermond Venadito 2 Depth to Groundwater 6511f7f10209694d42a0addb\n",
      "Dangermond Tinta 7 Depth to Groundwater 6511f7f12148db857e48534f\n",
      "Dangermond Tinta 5 Depth to Groundwater 6511f7f1552645cc5f3edce4\n",
      "Dangermond Tinta 6 Depth to Groundwater 6511f7f18081870f46c93c1a\n",
      "Dangermond Venadito 1 Depth to Groundwater 6511f7f1f1438d70d84e11b7\n",
      "Dangermond South Ramajal Depth to Groundwater 65baabd94dcc5f24c5258e63\n",
      "Dangermond Tinta 5B Depth to Groundwater 65baabd94dcc5fd58a258e65\n",
      "Dangermond Test Well Depth to Groundwater 65baabd97ee00d857370365e\n",
      "Dangermond Tinta 8 Depth to Groundwater 65d790ae7b3b703eb888748c\n",
      "Dangermond Tinta 9 Depth to Groundwater 65d790aeb40bbe152debaea0\n",
      "Dangermond Wood Canyon Depth to Groundwater 65d790af130ba5598a7815c2\n",
      "Dangermond Vaqueros Depth to Groundwater 65d790af5f69b09cb9c9e5ee\n",
      "Dangermond Upper Espada Depth to Groundwater 65d790aff64e760a9a84d734\n",
      "SCI Main Ranch North Well Well Water Depth 60ca6ad458d559f27c49c1f9\n",
      "SCI Main Ranch South Well Well Water Depth 60ca6d7658d559b6ca49c1fd\n",
      "SCI Prisoner Well Well Water Depth 6369d90d8f3bc333d2657353\n"
     ]
    }
   ],
   "source": [
    "measurement = \"WellDepth\"\n",
    "query_refinement = {\"is_hidden\": False}\n",
    "measurement_list = []  # list of only datastreams that you wish to download data from\n",
    "\n",
    "ds_list = dendra.list_datastreams_by_measurement(\n",
    "    measurement, \"\", [], \"tnc\", query_refinement\n",
    ")\n",
    "\n",
    "for ds in ds_list:\n",
    "    dsm = dendra.get_meta_datastream_by_id(\n",
    "        ds[\"_id\"]\n",
    "    )  # This will pull full datastream metadata in JSON format\n",
    "    station_name = dsm[\"station_lookup\"][\"name\"]\n",
    "    print(station_name, ds[\"name\"], ds[\"_id\"])\n",
    "    measurement_list.append(ds[\"_id\"])"
   ]
  },
  {
   "cell_type": "code",
   "execution_count": 115,
   "metadata": {},
   "outputs": [
    {
     "name": "stdout",
     "output_type": "stream",
     "text": [
      "datastream ID(6511f67d2148db626248533e)  has no data for this time period. Skipping.\n",
      "datastream ID(6511f7e82148db3a1e485341)  has no data for this time period. Skipping.\n",
      "datastream ID(6511f7e85526453a3c3edcd7)  has no data for this time period. Skipping.\n",
      "datastream ID(6511f7e8808187594cc93c0b)  has no data for this time period. Skipping.\n",
      "datastream ID(6511f7e8d070873fc4d574e2)  has no data for this time period. Skipping.\n",
      "datastream ID(6511f7e90209692d22a0add0)  has no data for this time period. Skipping.\n",
      "datastream ID(6511f7e95526459d613edcd9)  has no data for this time period. Skipping.\n",
      "datastream ID(6511f7e95c0d5fe521698416)  has no data for this time period. Skipping.\n",
      "datastream ID(6511f7e9f1438dfeb44e11a9)  has no data for this time period. Skipping.\n",
      "datastream ID(6511f7ea55264589773edcdb)  has no data for this time period. Skipping.\n",
      "datastream ID(6511f7ea5c0d5f9de3698418)  has no data for this time period. Skipping.\n",
      "datastream ID(6511f7ea8081871abec93c0d)  has no data for this time period. Skipping.\n",
      "datastream ID(6511f7ea8081871bfbc93c0f)  has no data for this time period. Skipping.\n"
     ]
    },
    {
     "ename": "ValueError",
     "evalue": "unconverted data remains when parsing with format \"%Y-%m-%dT%H:%M:%S\": \".000\", at position 0. You might want to try:\n    - passing `format` if your strings have a consistent format;\n    - passing `format='ISO8601'` if your strings are all ISO8601 but not necessarily in exactly the same format;\n    - passing `format='mixed'`, and the format will be inferred for each element individually. You might want to use `dayfirst` alongside this.",
     "output_type": "error",
     "traceback": [
      "\u001b[0;31m---------------------------------------------------------------------------\u001b[0m",
      "\u001b[0;31mValueError\u001b[0m                                Traceback (most recent call last)",
      "Cell \u001b[0;32mIn[115], line 1\u001b[0m\n\u001b[0;32m----> 1\u001b[0m df \u001b[38;5;241m=\u001b[39m \u001b[43mdendra\u001b[49m\u001b[38;5;241;43m.\u001b[39;49m\u001b[43mget_datapoints_from_id_list\u001b[49m\u001b[43m(\u001b[49m\u001b[43mmeasurement_list\u001b[49m\u001b[43m,\u001b[49m\u001b[43mbegins_at\u001b[49m\u001b[43m,\u001b[49m\u001b[43mends_before\u001b[49m\u001b[43m)\u001b[49m\n",
      "File \u001b[0;32m~/github/TNC_dangermond/station_data/lib/dendra.py:486\u001b[0m, in \u001b[0;36mget_datapoints_from_id_list\u001b[0;34m(datastream_id_list, begins_at, ends_before, time_type)\u001b[0m\n\u001b[1;32m    484\u001b[0m \u001b[38;5;28;01mfor\u001b[39;00m future \u001b[38;5;129;01min\u001b[39;00m concurrent\u001b[38;5;241m.\u001b[39mfutures\u001b[38;5;241m.\u001b[39mas_completed(dftemp_list):\n\u001b[1;32m    485\u001b[0m     j \u001b[38;5;241m+\u001b[39m\u001b[38;5;241m=\u001b[39m \u001b[38;5;241m1\u001b[39m\n\u001b[0;32m--> 486\u001b[0m     dftemp \u001b[38;5;241m=\u001b[39m \u001b[43mfuture\u001b[49m\u001b[38;5;241;43m.\u001b[39;49m\u001b[43mresult\u001b[49m\u001b[43m(\u001b[49m\u001b[43m)\u001b[49m\n\u001b[1;32m    487\u001b[0m     \u001b[38;5;66;03m# print('out\"',j,datastream_id_list[j],dftemp,'type:',type(dftemp))\u001b[39;00m\n\u001b[1;32m    488\u001b[0m     \u001b[38;5;66;03m# Check to see if any datapoints were returned.\u001b[39;00m\n\u001b[1;32m    489\u001b[0m     \u001b[38;5;66;03m# Many datastreams are not functional for the desired time frame.\u001b[39;00m\n\u001b[1;32m    490\u001b[0m     \u001b[38;5;66;03m# If none, then skip the datastream and continue\u001b[39;00m\n\u001b[1;32m    491\u001b[0m     \u001b[38;5;28;01mif\u001b[39;00m \u001b[38;5;28mtype\u001b[39m(dftemp) \u001b[38;5;129;01mis\u001b[39;00m \u001b[38;5;28mint\u001b[39m:\n",
      "File \u001b[0;32m~/miniconda3/envs/tnc_env/lib/python3.12/concurrent/futures/_base.py:449\u001b[0m, in \u001b[0;36mFuture.result\u001b[0;34m(self, timeout)\u001b[0m\n\u001b[1;32m    447\u001b[0m     \u001b[38;5;28;01mraise\u001b[39;00m CancelledError()\n\u001b[1;32m    448\u001b[0m \u001b[38;5;28;01melif\u001b[39;00m \u001b[38;5;28mself\u001b[39m\u001b[38;5;241m.\u001b[39m_state \u001b[38;5;241m==\u001b[39m FINISHED:\n\u001b[0;32m--> 449\u001b[0m     \u001b[38;5;28;01mreturn\u001b[39;00m \u001b[38;5;28;43mself\u001b[39;49m\u001b[38;5;241;43m.\u001b[39;49m\u001b[43m__get_result\u001b[49m\u001b[43m(\u001b[49m\u001b[43m)\u001b[49m\n\u001b[1;32m    451\u001b[0m \u001b[38;5;28mself\u001b[39m\u001b[38;5;241m.\u001b[39m_condition\u001b[38;5;241m.\u001b[39mwait(timeout)\n\u001b[1;32m    453\u001b[0m \u001b[38;5;28;01mif\u001b[39;00m \u001b[38;5;28mself\u001b[39m\u001b[38;5;241m.\u001b[39m_state \u001b[38;5;129;01min\u001b[39;00m [CANCELLED, CANCELLED_AND_NOTIFIED]:\n",
      "File \u001b[0;32m~/miniconda3/envs/tnc_env/lib/python3.12/concurrent/futures/_base.py:401\u001b[0m, in \u001b[0;36mFuture.__get_result\u001b[0;34m(self)\u001b[0m\n\u001b[1;32m    399\u001b[0m \u001b[38;5;28;01mif\u001b[39;00m \u001b[38;5;28mself\u001b[39m\u001b[38;5;241m.\u001b[39m_exception:\n\u001b[1;32m    400\u001b[0m     \u001b[38;5;28;01mtry\u001b[39;00m:\n\u001b[0;32m--> 401\u001b[0m         \u001b[38;5;28;01mraise\u001b[39;00m \u001b[38;5;28mself\u001b[39m\u001b[38;5;241m.\u001b[39m_exception\n\u001b[1;32m    402\u001b[0m     \u001b[38;5;28;01mfinally\u001b[39;00m:\n\u001b[1;32m    403\u001b[0m         \u001b[38;5;66;03m# Break a reference cycle with the exception in self._exception\u001b[39;00m\n\u001b[1;32m    404\u001b[0m         \u001b[38;5;28mself\u001b[39m \u001b[38;5;241m=\u001b[39m \u001b[38;5;28;01mNone\u001b[39;00m\n",
      "File \u001b[0;32m~/miniconda3/envs/tnc_env/lib/python3.12/concurrent/futures/thread.py:58\u001b[0m, in \u001b[0;36m_WorkItem.run\u001b[0;34m(self)\u001b[0m\n\u001b[1;32m     55\u001b[0m     \u001b[38;5;28;01mreturn\u001b[39;00m\n\u001b[1;32m     57\u001b[0m \u001b[38;5;28;01mtry\u001b[39;00m:\n\u001b[0;32m---> 58\u001b[0m     result \u001b[38;5;241m=\u001b[39m \u001b[38;5;28;43mself\u001b[39;49m\u001b[38;5;241;43m.\u001b[39;49m\u001b[43mfn\u001b[49m\u001b[43m(\u001b[49m\u001b[38;5;241;43m*\u001b[39;49m\u001b[38;5;28;43mself\u001b[39;49m\u001b[38;5;241;43m.\u001b[39;49m\u001b[43margs\u001b[49m\u001b[43m,\u001b[49m\u001b[43m \u001b[49m\u001b[38;5;241;43m*\u001b[39;49m\u001b[38;5;241;43m*\u001b[39;49m\u001b[38;5;28;43mself\u001b[39;49m\u001b[38;5;241;43m.\u001b[39;49m\u001b[43mkwargs\u001b[49m\u001b[43m)\u001b[49m\n\u001b[1;32m     59\u001b[0m \u001b[38;5;28;01mexcept\u001b[39;00m \u001b[38;5;167;01mBaseException\u001b[39;00m \u001b[38;5;28;01mas\u001b[39;00m exc:\n\u001b[1;32m     60\u001b[0m     \u001b[38;5;28mself\u001b[39m\u001b[38;5;241m.\u001b[39mfuture\u001b[38;5;241m.\u001b[39mset_exception(exc)\n",
      "File \u001b[0;32m~/github/TNC_dangermond/station_data/lib/dendra.py:447\u001b[0m, in \u001b[0;36mget_datapoints\u001b[0;34m(datastream_id, begins_at, ends_before, time_type, name)\u001b[0m\n\u001b[1;32m    441\u001b[0m df\u001b[38;5;241m.\u001b[39mrename(\n\u001b[1;32m    442\u001b[0m     columns\u001b[38;5;241m=\u001b[39m{\u001b[38;5;124m\"\u001b[39m\u001b[38;5;124mlt\u001b[39m\u001b[38;5;124m\"\u001b[39m: \u001b[38;5;124m\"\u001b[39m\u001b[38;5;124mtimestamp_local\u001b[39m\u001b[38;5;124m\"\u001b[39m, \u001b[38;5;124m\"\u001b[39m\u001b[38;5;124mt\u001b[39m\u001b[38;5;124m\"\u001b[39m: \u001b[38;5;124m\"\u001b[39m\u001b[38;5;124mtimestamp_utc\u001b[39m\u001b[38;5;124m\"\u001b[39m, \u001b[38;5;124m\"\u001b[39m\u001b[38;5;124mv\u001b[39m\u001b[38;5;124m\"\u001b[39m: datastream_name},\n\u001b[1;32m    443\u001b[0m     inplace\u001b[38;5;241m=\u001b[39m\u001b[38;5;28;01mTrue\u001b[39;00m,\n\u001b[1;32m    444\u001b[0m )\n\u001b[1;32m    446\u001b[0m \u001b[38;5;66;03m# Convert timestamp columns from 'object' to dt.datetime\u001b[39;00m\n\u001b[0;32m--> 447\u001b[0m df\u001b[38;5;241m.\u001b[39mtimestamp_local \u001b[38;5;241m=\u001b[39m \u001b[43mpd\u001b[49m\u001b[38;5;241;43m.\u001b[39;49m\u001b[43mto_datetime\u001b[49m\u001b[43m(\u001b[49m\u001b[43mdf\u001b[49m\u001b[38;5;241;43m.\u001b[39;49m\u001b[43mtimestamp_local\u001b[49m\u001b[43m,\u001b[49m\u001b[43m \u001b[49m\u001b[38;5;28;43mformat\u001b[39;49m\u001b[38;5;241;43m=\u001b[39;49m\u001b[38;5;124;43m\"\u001b[39;49m\u001b[38;5;124;43m%\u001b[39;49m\u001b[38;5;124;43mY-\u001b[39;49m\u001b[38;5;124;43m%\u001b[39;49m\u001b[38;5;124;43mm-\u001b[39;49m\u001b[38;5;132;43;01m%d\u001b[39;49;00m\u001b[38;5;124;43mT\u001b[39;49m\u001b[38;5;124;43m%\u001b[39;49m\u001b[38;5;124;43mH:\u001b[39;49m\u001b[38;5;124;43m%\u001b[39;49m\u001b[38;5;124;43mM:\u001b[39;49m\u001b[38;5;124;43m%\u001b[39;49m\u001b[38;5;124;43mS\u001b[39;49m\u001b[38;5;124;43m\"\u001b[39;49m\u001b[43m)\u001b[49m\n\u001b[1;32m    448\u001b[0m df\u001b[38;5;241m.\u001b[39mtimestamp_utc \u001b[38;5;241m=\u001b[39m pd\u001b[38;5;241m.\u001b[39mto_datetime(\n\u001b[1;32m    449\u001b[0m     df\u001b[38;5;241m.\u001b[39mtimestamp_utc, \u001b[38;5;28mformat\u001b[39m\u001b[38;5;241m=\u001b[39m\u001b[38;5;124m\"\u001b[39m\u001b[38;5;124m%\u001b[39m\u001b[38;5;124mY-\u001b[39m\u001b[38;5;124m%\u001b[39m\u001b[38;5;124mm-\u001b[39m\u001b[38;5;132;01m%d\u001b[39;00m\u001b[38;5;124mT\u001b[39m\u001b[38;5;124m%\u001b[39m\u001b[38;5;124mH:\u001b[39m\u001b[38;5;124m%\u001b[39m\u001b[38;5;124mM:\u001b[39m\u001b[38;5;124m%\u001b[39m\u001b[38;5;124mS.000Z\u001b[39m\u001b[38;5;124m\"\u001b[39m, utc\u001b[38;5;241m=\u001b[39m\u001b[38;5;28;01mTrue\u001b[39;00m\n\u001b[1;32m    450\u001b[0m )\n\u001b[1;32m    452\u001b[0m \u001b[38;5;66;03m# Set index to timestamp local or utc\u001b[39;00m\n",
      "File \u001b[0;32m~/miniconda3/envs/tnc_env/lib/python3.12/site-packages/pandas/core/tools/datetimes.py:1067\u001b[0m, in \u001b[0;36mto_datetime\u001b[0;34m(arg, errors, dayfirst, yearfirst, utc, format, exact, unit, infer_datetime_format, origin, cache)\u001b[0m\n\u001b[1;32m   1065\u001b[0m         result \u001b[38;5;241m=\u001b[39m arg\u001b[38;5;241m.\u001b[39mmap(cache_array)\n\u001b[1;32m   1066\u001b[0m     \u001b[38;5;28;01melse\u001b[39;00m:\n\u001b[0;32m-> 1067\u001b[0m         values \u001b[38;5;241m=\u001b[39m \u001b[43mconvert_listlike\u001b[49m\u001b[43m(\u001b[49m\u001b[43marg\u001b[49m\u001b[38;5;241;43m.\u001b[39;49m\u001b[43m_values\u001b[49m\u001b[43m,\u001b[49m\u001b[43m \u001b[49m\u001b[38;5;28;43mformat\u001b[39;49m\u001b[43m)\u001b[49m\n\u001b[1;32m   1068\u001b[0m         result \u001b[38;5;241m=\u001b[39m arg\u001b[38;5;241m.\u001b[39m_constructor(values, index\u001b[38;5;241m=\u001b[39marg\u001b[38;5;241m.\u001b[39mindex, name\u001b[38;5;241m=\u001b[39marg\u001b[38;5;241m.\u001b[39mname)\n\u001b[1;32m   1069\u001b[0m \u001b[38;5;28;01melif\u001b[39;00m \u001b[38;5;28misinstance\u001b[39m(arg, (ABCDataFrame, abc\u001b[38;5;241m.\u001b[39mMutableMapping)):\n",
      "File \u001b[0;32m~/miniconda3/envs/tnc_env/lib/python3.12/site-packages/pandas/core/tools/datetimes.py:433\u001b[0m, in \u001b[0;36m_convert_listlike_datetimes\u001b[0;34m(arg, format, name, utc, unit, errors, dayfirst, yearfirst, exact)\u001b[0m\n\u001b[1;32m    431\u001b[0m \u001b[38;5;66;03m# `format` could be inferred, or user didn't ask for mixed-format parsing.\u001b[39;00m\n\u001b[1;32m    432\u001b[0m \u001b[38;5;28;01mif\u001b[39;00m \u001b[38;5;28mformat\u001b[39m \u001b[38;5;129;01mis\u001b[39;00m \u001b[38;5;129;01mnot\u001b[39;00m \u001b[38;5;28;01mNone\u001b[39;00m \u001b[38;5;129;01mand\u001b[39;00m \u001b[38;5;28mformat\u001b[39m \u001b[38;5;241m!=\u001b[39m \u001b[38;5;124m\"\u001b[39m\u001b[38;5;124mmixed\u001b[39m\u001b[38;5;124m\"\u001b[39m:\n\u001b[0;32m--> 433\u001b[0m     \u001b[38;5;28;01mreturn\u001b[39;00m \u001b[43m_array_strptime_with_fallback\u001b[49m\u001b[43m(\u001b[49m\u001b[43marg\u001b[49m\u001b[43m,\u001b[49m\u001b[43m \u001b[49m\u001b[43mname\u001b[49m\u001b[43m,\u001b[49m\u001b[43m \u001b[49m\u001b[43mutc\u001b[49m\u001b[43m,\u001b[49m\u001b[43m \u001b[49m\u001b[38;5;28;43mformat\u001b[39;49m\u001b[43m,\u001b[49m\u001b[43m \u001b[49m\u001b[43mexact\u001b[49m\u001b[43m,\u001b[49m\u001b[43m \u001b[49m\u001b[43merrors\u001b[49m\u001b[43m)\u001b[49m\n\u001b[1;32m    435\u001b[0m result, tz_parsed \u001b[38;5;241m=\u001b[39m objects_to_datetime64(\n\u001b[1;32m    436\u001b[0m     arg,\n\u001b[1;32m    437\u001b[0m     dayfirst\u001b[38;5;241m=\u001b[39mdayfirst,\n\u001b[0;32m   (...)\u001b[0m\n\u001b[1;32m    441\u001b[0m     allow_object\u001b[38;5;241m=\u001b[39m\u001b[38;5;28;01mTrue\u001b[39;00m,\n\u001b[1;32m    442\u001b[0m )\n\u001b[1;32m    444\u001b[0m \u001b[38;5;28;01mif\u001b[39;00m tz_parsed \u001b[38;5;129;01mis\u001b[39;00m \u001b[38;5;129;01mnot\u001b[39;00m \u001b[38;5;28;01mNone\u001b[39;00m:\n\u001b[1;32m    445\u001b[0m     \u001b[38;5;66;03m# We can take a shortcut since the datetime64 numpy array\u001b[39;00m\n\u001b[1;32m    446\u001b[0m     \u001b[38;5;66;03m# is in UTC\u001b[39;00m\n",
      "File \u001b[0;32m~/miniconda3/envs/tnc_env/lib/python3.12/site-packages/pandas/core/tools/datetimes.py:467\u001b[0m, in \u001b[0;36m_array_strptime_with_fallback\u001b[0;34m(arg, name, utc, fmt, exact, errors)\u001b[0m\n\u001b[1;32m    456\u001b[0m \u001b[38;5;28;01mdef\u001b[39;00m \u001b[38;5;21m_array_strptime_with_fallback\u001b[39m(\n\u001b[1;32m    457\u001b[0m     arg,\n\u001b[1;32m    458\u001b[0m     name,\n\u001b[0;32m   (...)\u001b[0m\n\u001b[1;32m    462\u001b[0m     errors: \u001b[38;5;28mstr\u001b[39m,\n\u001b[1;32m    463\u001b[0m ) \u001b[38;5;241m-\u001b[39m\u001b[38;5;241m>\u001b[39m Index:\n\u001b[1;32m    464\u001b[0m \u001b[38;5;250m    \u001b[39m\u001b[38;5;124;03m\"\"\"\u001b[39;00m\n\u001b[1;32m    465\u001b[0m \u001b[38;5;124;03m    Call array_strptime, with fallback behavior depending on 'errors'.\u001b[39;00m\n\u001b[1;32m    466\u001b[0m \u001b[38;5;124;03m    \"\"\"\u001b[39;00m\n\u001b[0;32m--> 467\u001b[0m     result, tz_out \u001b[38;5;241m=\u001b[39m \u001b[43marray_strptime\u001b[49m\u001b[43m(\u001b[49m\u001b[43marg\u001b[49m\u001b[43m,\u001b[49m\u001b[43m \u001b[49m\u001b[43mfmt\u001b[49m\u001b[43m,\u001b[49m\u001b[43m \u001b[49m\u001b[43mexact\u001b[49m\u001b[38;5;241;43m=\u001b[39;49m\u001b[43mexact\u001b[49m\u001b[43m,\u001b[49m\u001b[43m \u001b[49m\u001b[43merrors\u001b[49m\u001b[38;5;241;43m=\u001b[39;49m\u001b[43merrors\u001b[49m\u001b[43m,\u001b[49m\u001b[43m \u001b[49m\u001b[43mutc\u001b[49m\u001b[38;5;241;43m=\u001b[39;49m\u001b[43mutc\u001b[49m\u001b[43m)\u001b[49m\n\u001b[1;32m    468\u001b[0m     \u001b[38;5;28;01mif\u001b[39;00m tz_out \u001b[38;5;129;01mis\u001b[39;00m \u001b[38;5;129;01mnot\u001b[39;00m \u001b[38;5;28;01mNone\u001b[39;00m:\n\u001b[1;32m    469\u001b[0m         unit \u001b[38;5;241m=\u001b[39m np\u001b[38;5;241m.\u001b[39mdatetime_data(result\u001b[38;5;241m.\u001b[39mdtype)[\u001b[38;5;241m0\u001b[39m]\n",
      "File \u001b[0;32mstrptime.pyx:501\u001b[0m, in \u001b[0;36mpandas._libs.tslibs.strptime.array_strptime\u001b[0;34m()\u001b[0m\n",
      "File \u001b[0;32mstrptime.pyx:451\u001b[0m, in \u001b[0;36mpandas._libs.tslibs.strptime.array_strptime\u001b[0;34m()\u001b[0m\n",
      "File \u001b[0;32mstrptime.pyx:587\u001b[0m, in \u001b[0;36mpandas._libs.tslibs.strptime._parse_with_format\u001b[0;34m()\u001b[0m\n",
      "\u001b[0;31mValueError\u001b[0m: unconverted data remains when parsing with format \"%Y-%m-%dT%H:%M:%S\": \".000\", at position 0. You might want to try:\n    - passing `format` if your strings have a consistent format;\n    - passing `format='ISO8601'` if your strings are all ISO8601 but not necessarily in exactly the same format;\n    - passing `format='mixed'`, and the format will be inferred for each element individually. You might want to use `dayfirst` alongside this."
     ]
    }
   ],
   "source": [
    "df = dendra.get_datapoints_from_id_list(measurement_list, begins_at, ends_before)"
   ]
  },
  {
   "cell_type": "code",
   "execution_count": null,
   "metadata": {},
   "outputs": [],
   "source": []
  },
  {
   "cell_type": "code",
   "execution_count": null,
   "metadata": {},
   "outputs": [],
   "source": []
  }
 ],
 "metadata": {
  "kernelspec": {
   "display_name": "tnc_env",
   "language": "python",
   "name": "python3"
  },
  "language_info": {
   "codemirror_mode": {
    "name": "ipython",
    "version": 3
   },
   "file_extension": ".py",
   "mimetype": "text/x-python",
   "name": "python",
   "nbconvert_exporter": "python",
   "pygments_lexer": "ipython3",
   "version": "3.12.3"
  }
 },
 "nbformat": 4,
 "nbformat_minor": 2
}
